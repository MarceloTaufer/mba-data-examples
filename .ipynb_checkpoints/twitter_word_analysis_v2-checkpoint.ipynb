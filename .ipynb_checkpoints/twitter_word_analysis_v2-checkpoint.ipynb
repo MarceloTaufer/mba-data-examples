{
 "cells": [
  {
   "cell_type": "code",
   "execution_count": 18,
   "metadata": {},
   "outputs": [],
   "source": [
    "from TwitterSearch import *\n",
    "\n",
    "tweets = []\n",
    "\n",
    "try:\n",
    "    tso = TwitterSearchOrder() # create a TwitterSearchOrder object\n",
    "    tso.set_keywords(['innovation', 'definition', '-RT']) # let's define all words we would like to have a look for\n",
    "    tso.set_language('en') # we want to see English tweets only\n",
    "    tso.set_include_entities(False) # and don't give us all those entity information\n",
    "    tso.set_count(100)\n",
    "\n",
    "    # it's about time to create a TwitterSearch object with our secret tokens\n",
    "    ts = TwitterSearch(\n",
    "        consumer_key = 'OuqBzAbVzOaLeTsOzrdlizCxt',\n",
    "        consumer_secret = 'q3zuX2ho85CM1D1CWqDf91tb0qo8PCGOBn34ZNrQBTtJReLV8G',\n",
    "        access_token = '35594417-wbW8IerYFAnqyHqFfKdrvK0eLybTi3R5Ejtz0AJIr',\n",
    "        access_token_secret = 'wI93ddk0dPSqF2HazWV57HXg1UrKyYxbktihYe77uEQOV'\n",
    "    )\n",
    "    \n",
    "    last_id = None\n",
    "    for i in range(10):\n",
    "        for tweet in ts.search_tweets_iterable(tso):\n",
    "            tweets.append(tweet)\n",
    "            if last_id is None or tweet['id'] < last_id:\n",
    "                last_id = tweet['id']\n",
    "        tso.set_max_id(last_id - 1)\n",
    "except TwitterSearchException as e: # take care of all those ugly errors if there are some\n",
    "    print(e)"
   ]
  },
  {
   "cell_type": "code",
   "execution_count": null,
   "metadata": {},
   "outputs": [],
   "source": [
    "from pytwitter import Api\n",
    "\n",
    "CONSUMER_KEY = os.getenv('CONSUMER_KEY')\n",
    "CONSUMER_SECRET = os.getenv('CONSUMER_SECRET')\n",
    "\n",
    "api = Api(consumer_key=CONSUMER_KEY, consumer_secret=CONSUMER_SECRET, oauth_flow=True)"
   ]
  },
  {
   "cell_type": "code",
   "execution_count": 19,
   "metadata": {},
   "outputs": [
    {
     "name": "stdout",
     "output_type": "stream",
     "text": [
      "{'created_at': 'Mon Nov 02 16:40:01 +0000 2020', 'id': 1323303864393781248, 'id_str': '1323303864393781248', 'text': 'I en kurs pratar vi om Innovation. Kurslitteraturens definition av innovation lyder:\\n\\n\"Innovation is a process of t… https://t.co/66vJrt5TZy', 'truncated': True, 'metadata': {'iso_language_code': 'en', 'result_type': 'recent'}, 'source': '<a href=\"https://mobile.twitter.com\" rel=\"nofollow\">Twitter Web App</a>', 'in_reply_to_status_id': None, 'in_reply_to_status_id_str': None, 'in_reply_to_user_id': None, 'in_reply_to_user_id_str': None, 'in_reply_to_screen_name': None, 'user': {'id': 1125334559648825344, 'id_str': '1125334559648825344', 'name': 'Digitaliseringsforskarna', 'screen_name': 'Digiforskarna', 'location': 'Sundsvall & Östersund, Sverige', 'description': 'Bakom Digitaliseringsforskarna står ett 30-tal forskare vid Mittuniversitetet med ambitionen att skapa ett bättre och mer hållbart samhälle. #öppenkunskap', 'url': 'https://t.co/zrgk77JIVv', 'entities': {'url': {'urls': [{'url': 'https://t.co/zrgk77JIVv', 'expanded_url': 'http://mittuniversitetet.se/fodi', 'display_url': 'mittuniversitetet.se/fodi', 'indices': [0, 23]}]}, 'description': {'urls': []}}, 'protected': False, 'followers_count': 765, 'friends_count': 982, 'listed_count': 6, 'created_at': 'Mon May 06 09:40:41 +0000 2019', 'favourites_count': 503, 'utc_offset': None, 'time_zone': None, 'geo_enabled': True, 'verified': False, 'statuses_count': 1088, 'lang': None, 'contributors_enabled': False, 'is_translator': False, 'is_translation_enabled': False, 'profile_background_color': '000000', 'profile_background_image_url': 'http://abs.twimg.com/images/themes/theme1/bg.png', 'profile_background_image_url_https': 'https://abs.twimg.com/images/themes/theme1/bg.png', 'profile_background_tile': False, 'profile_image_url': 'http://pbs.twimg.com/profile_images/1125390043261087746/kaZEU4BC_normal.png', 'profile_image_url_https': 'https://pbs.twimg.com/profile_images/1125390043261087746/kaZEU4BC_normal.png', 'profile_banner_url': 'https://pbs.twimg.com/profile_banners/1125334559648825344/1557148176', 'profile_link_color': 'F58EA8', 'profile_sidebar_border_color': '000000', 'profile_sidebar_fill_color': '000000', 'profile_text_color': '000000', 'profile_use_background_image': False, 'has_extended_profile': False, 'default_profile': False, 'default_profile_image': False, 'following': False, 'follow_request_sent': False, 'notifications': False, 'translator_type': 'none'}, 'geo': None, 'coordinates': None, 'place': None, 'contributors': None, 'is_quote_status': False, 'retweet_count': 0, 'favorite_count': 0, 'favorited': False, 'retweeted': False, 'lang': 'en'}\n"
     ]
    }
   ],
   "source": [
    "print(tweets[0])"
   ]
  },
  {
   "cell_type": "code",
   "execution_count": 20,
   "metadata": {},
   "outputs": [
    {
     "data": {
      "text/plain": [
       "85"
      ]
     },
     "execution_count": 20,
     "metadata": {},
     "output_type": "execute_result"
    }
   ],
   "source": [
    "len(tweets)"
   ]
  },
  {
   "cell_type": "code",
   "execution_count": 4,
   "metadata": {},
   "outputs": [],
   "source": [
    "# remove replies\n",
    "for tweet in tweets:\n",
    "    if tweet['in_reply_to_status_id'] or tweet['in_reply_to_user_id'] or tweet['in_reply_to_screen_name'] is not None:\n",
    "        tweets.remove(tweet)"
   ]
  },
  {
   "cell_type": "code",
   "execution_count": 5,
   "metadata": {},
   "outputs": [
    {
     "data": {
      "text/plain": [
       "59"
      ]
     },
     "execution_count": 5,
     "metadata": {},
     "output_type": "execute_result"
    }
   ],
   "source": [
    "len(tweets)"
   ]
  },
  {
   "cell_type": "code",
   "execution_count": 6,
   "metadata": {},
   "outputs": [],
   "source": [
    "# remove duplicates\n",
    "tweet_set = set()\n",
    "\n",
    "for tweet in tweets:\n",
    "    tweet_set.add(tweet['text'])"
   ]
  },
  {
   "cell_type": "code",
   "execution_count": 7,
   "metadata": {},
   "outputs": [
    {
     "data": {
      "text/plain": [
       "59"
      ]
     },
     "execution_count": 7,
     "metadata": {},
     "output_type": "execute_result"
    }
   ],
   "source": [
    "len(tweet_set)"
   ]
  },
  {
   "cell_type": "code",
   "execution_count": 8,
   "metadata": {
    "scrolled": true
   },
   "outputs": [
    {
     "name": "stderr",
     "output_type": "stream",
     "text": [
      "[nltk_data] Downloading package stopwords to /Users/mojo/nltk_data...\n",
      "[nltk_data]   Unzipping corpora/stopwords.zip.\n",
      "[nltk_data] Downloading package punkt to /Users/mojo/nltk_data...\n",
      "[nltk_data]   Package punkt is already up-to-date!\n"
     ]
    },
    {
     "data": {
      "text/plain": [
       "True"
      ]
     },
     "execution_count": 8,
     "metadata": {},
     "output_type": "execute_result"
    }
   ],
   "source": [
    "import nltk\n",
    "from nltk.corpus import stopwords\n",
    "\n",
    "nltk.download('stopwords')\n",
    "nltk.download('punkt')"
   ]
  },
  {
   "cell_type": "code",
   "execution_count": 9,
   "metadata": {},
   "outputs": [
    {
     "data": {
      "text/plain": [
       "['i', 'me', 'my', 'myself', 'we']"
      ]
     },
     "execution_count": 9,
     "metadata": {},
     "output_type": "execute_result"
    }
   ],
   "source": [
    "stop_words = stopwords.words('english')\n",
    "stop_words[:5]"
   ]
  },
  {
   "cell_type": "code",
   "execution_count": 22,
   "metadata": {},
   "outputs": [],
   "source": [
    "search_words = [ 'definition']\n",
    "\n",
    "def check_word(word):\n",
    "    if word in stop_words:\n",
    "        return False\n",
    "    if \"//\" in word:\n",
    "        return False\n",
    "    if \"http\" in word:\n",
    "        return False\n",
    "    if \"@\" in word:\n",
    "        return False\n",
    "    if word in search_words:\n",
    "        return False\n",
    "    return True"
   ]
  },
  {
   "cell_type": "code",
   "execution_count": 23,
   "metadata": {},
   "outputs": [],
   "source": [
    "keyword_count = dict()\n",
    "\n",
    "for tweet in tweet_set:\n",
    "    tokenized_words = nltk.word_tokenize(tweet)\n",
    "    tokenized_words = [word.lower() for word in tokenized_words if word.isalpha()]\n",
    "    keywords = [word for word in tokenized_words if check_word(word.lower())]\n",
    "    for keyword in keywords:\n",
    "        if keyword not in keyword_count:\n",
    "            keyword_count[keyword.lower()] = 0\n",
    "        keyword_count[keyword.lower()] += 1"
   ]
  },
  {
   "cell_type": "code",
   "execution_count": 27,
   "metadata": {},
   "outputs": [
    {
     "name": "stdout",
     "output_type": "stream",
     "text": [
      "\"3\",\"creativity\"\n",
      "\"42\",\"innovation\"\n",
      "\"4\",\"conservative\"\n",
      "\"3\",\"averse\"\n",
      "\"3\",\"change\"\n",
      "\"2\",\"traditional\"\n",
      "\"2\",\"values\"\n",
      "\"2\",\"really\"\n",
      "\"2\",\"would\"\n",
      "\"4\",\"amp\"\n",
      "\"3\",\"available\"\n",
      "\"2\",\"download\"\n",
      "\"2\",\"press\"\n",
      "\"2\",\"quality\"\n",
      "\"3\",\"know\"\n",
      "\"2\",\"space\"\n",
      "\"2\",\"social\"\n",
      "\"2\",\"today\"\n",
      "\"2\",\"management\"\n",
      "\"2\",\"like\"\n",
      "\"2\",\"im\"\n",
      "\"2\",\"process\"\n",
      "\"2\",\"small\"\n",
      "\"4\",\"disruptive\"\n",
      "\"2\",\"problem\"\n",
      "\"2\",\"actually\"\n",
      "\"2\",\"successful\"\n",
      "\"2\",\"entrepreneurs\"\n",
      "\"2\",\"apple\"\n",
      "\"2\",\"perkins\"\n",
      "\"2\",\"modernization\"\n",
      "\"2\",\"grant\"\n",
      "\"2\",\"program\"\n",
      "\"2\",\"proposed\"\n",
      "\"2\",\"priorities\"\n",
      "\"2\",\"requirements\"\n",
      "\"2\",\"selection\"\n",
      "\"2\",\"people\"\n",
      "\"3\",\"learning\"\n",
      "\"2\",\"culture\"\n",
      "\"2\",\"business\"\n",
      "\"2\",\"says\"\n",
      "\"2\",\"also\"\n",
      "\"2\",\"product\"\n",
      "\"3\",\"first\"\n",
      "\"2\",\"ai\"\n",
      "\"2\",\"drew\"\n",
      "\"2\",\"flowchart\"\n",
      "\"2\",\"work\"\n",
      "\"2\",\"artificial\"\n",
      "\"2\",\"intelligence\"\n",
      "\"2\",\"constantly\"\n",
      "\"6\",\"open\"\n",
      "\"3\",\"guide\"\n",
      "\"3\",\"professionals\"\n",
      "\"2\",\"new\"\n",
      "\"2\",\"accepted\"\n",
      "\"2\",\"takes\"\n",
      "\"2\",\"repeated\"\n",
      "\"2\",\"attempts\"\n",
      "\"2\",\"endless\"\n",
      "\"2\",\"ethereum\"\n"
     ]
    }
   ],
   "source": [
    "for keyword in keyword_count:\n",
    "    if keyword_count[keyword] > 1:\n",
    "        print(f'\"{keyword_count[keyword]}\",\"{keyword}\"' )"
   ]
  },
  {
   "cell_type": "code",
   "execution_count": null,
   "metadata": {},
   "outputs": [],
   "source": []
  }
 ],
 "metadata": {
  "kernelspec": {
   "display_name": "Python 3 (ipykernel)",
   "language": "python",
   "name": "python3"
  },
  "language_info": {
   "codemirror_mode": {
    "name": "ipython",
    "version": 3
   },
   "file_extension": ".py",
   "mimetype": "text/x-python",
   "name": "python",
   "nbconvert_exporter": "python",
   "pygments_lexer": "ipython3",
   "version": "3.9.1"
  }
 },
 "nbformat": 4,
 "nbformat_minor": 2
}
